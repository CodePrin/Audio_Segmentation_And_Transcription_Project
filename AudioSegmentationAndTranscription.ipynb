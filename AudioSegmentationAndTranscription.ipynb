{
  "nbformat": 4,
  "nbformat_minor": 0,
  "metadata": {
    "colab": {
      "provenance": [],
      "authorship_tag": "ABX9TyMb9ECXR3vkLeqLHA/gbIxa",
      "include_colab_link": true
    },
    "kernelspec": {
      "name": "python3",
      "display_name": "Python 3"
    },
    "language_info": {
      "name": "python"
    }
  },
  "cells": [
    {
      "cell_type": "markdown",
      "metadata": {
        "id": "view-in-github",
        "colab_type": "text"
      },
      "source": [
        "<a href=\"https://colab.research.google.com/github/CodePrin/Audio_Segmentation_And_Transcription_Project/blob/main/AudioSegmentationAndTranscription.ipynb\" target=\"_parent\"><img src=\"https://colab.research.google.com/assets/colab-badge.svg\" alt=\"Open In Colab\"/></a>"
      ]
    },
    {
      "cell_type": "markdown",
      "source": [
        "# Installed Packages\n",
        "* PyDub is used for audio segmentation.\n",
        "* Whisper is used for transcription. For details check this link:  \n",
        "    https://github.com/openai/whisper"
      ],
      "metadata": {
        "id": "HS_R9NEEVhRJ"
      }
    },
    {
      "cell_type": "code",
      "execution_count": null,
      "metadata": {
        "colab": {
          "base_uri": "https://localhost:8080/",
          "height": 1000
        },
        "id": "luYjmACRVd3z",
        "outputId": "1ab914fa-46a0-4f0c-fe91-7da77bb3c260"
      },
      "outputs": [
        {
          "output_type": "stream",
          "name": "stdout",
          "text": [
            "Requirement already satisfied: pydub in /usr/local/lib/python3.10/dist-packages (0.25.1)\n",
            "Requirement already satisfied: openai-whisper in /usr/local/lib/python3.10/dist-packages (20230918)\n",
            "Requirement already satisfied: triton==2.0.0 in /usr/local/lib/python3.10/dist-packages (from openai-whisper) (2.0.0)\n",
            "Requirement already satisfied: numba in /usr/local/lib/python3.10/dist-packages (from openai-whisper) (0.56.4)\n",
            "Requirement already satisfied: numpy in /usr/local/lib/python3.10/dist-packages (from openai-whisper) (1.23.5)\n",
            "Requirement already satisfied: torch in /usr/local/lib/python3.10/dist-packages (from openai-whisper) (2.0.1)\n",
            "Requirement already satisfied: tqdm in /usr/local/lib/python3.10/dist-packages (from openai-whisper) (4.66.1)\n",
            "Requirement already satisfied: more-itertools in /usr/local/lib/python3.10/dist-packages (from openai-whisper) (10.1.0)\n",
            "Requirement already satisfied: tiktoken==0.3.3 in /usr/local/lib/python3.10/dist-packages (from openai-whisper) (0.3.3)\n",
            "Requirement already satisfied: regex>=2022.1.18 in /usr/local/lib/python3.10/dist-packages (from tiktoken==0.3.3->openai-whisper) (2023.6.3)\n",
            "Requirement already satisfied: requests>=2.26.0 in /usr/local/lib/python3.10/dist-packages (from tiktoken==0.3.3->openai-whisper) (2.31.0)\n",
            "Requirement already satisfied: cmake in /usr/local/lib/python3.10/dist-packages (from triton==2.0.0->openai-whisper) (3.27.7)\n",
            "Requirement already satisfied: filelock in /usr/local/lib/python3.10/dist-packages (from triton==2.0.0->openai-whisper) (3.12.4)\n",
            "Requirement already satisfied: lit in /usr/local/lib/python3.10/dist-packages (from triton==2.0.0->openai-whisper) (17.0.3)\n",
            "Requirement already satisfied: llvmlite<0.40,>=0.39.0dev0 in /usr/local/lib/python3.10/dist-packages (from numba->openai-whisper) (0.39.1)\n",
            "Requirement already satisfied: setuptools in /usr/local/lib/python3.10/dist-packages (from numba->openai-whisper) (67.7.2)\n",
            "Requirement already satisfied: typing-extensions in /usr/local/lib/python3.10/dist-packages (from torch->openai-whisper) (4.5.0)\n",
            "Requirement already satisfied: sympy in /usr/local/lib/python3.10/dist-packages (from torch->openai-whisper) (1.12)\n",
            "Requirement already satisfied: networkx in /usr/local/lib/python3.10/dist-packages (from torch->openai-whisper) (3.2)\n",
            "Requirement already satisfied: jinja2 in /usr/local/lib/python3.10/dist-packages (from torch->openai-whisper) (3.1.2)\n",
            "Requirement already satisfied: nvidia-cuda-nvrtc-cu11==11.7.99 in /usr/local/lib/python3.10/dist-packages (from torch->openai-whisper) (11.7.99)\n",
            "Requirement already satisfied: nvidia-cuda-runtime-cu11==11.7.99 in /usr/local/lib/python3.10/dist-packages (from torch->openai-whisper) (11.7.99)\n",
            "Requirement already satisfied: nvidia-cuda-cupti-cu11==11.7.101 in /usr/local/lib/python3.10/dist-packages (from torch->openai-whisper) (11.7.101)\n",
            "Requirement already satisfied: nvidia-cudnn-cu11==8.5.0.96 in /usr/local/lib/python3.10/dist-packages (from torch->openai-whisper) (8.5.0.96)\n",
            "Requirement already satisfied: nvidia-cublas-cu11==11.10.3.66 in /usr/local/lib/python3.10/dist-packages (from torch->openai-whisper) (11.10.3.66)\n",
            "Requirement already satisfied: nvidia-cufft-cu11==10.9.0.58 in /usr/local/lib/python3.10/dist-packages (from torch->openai-whisper) (10.9.0.58)\n",
            "Requirement already satisfied: nvidia-curand-cu11==10.2.10.91 in /usr/local/lib/python3.10/dist-packages (from torch->openai-whisper) (10.2.10.91)\n",
            "Requirement already satisfied: nvidia-cusolver-cu11==11.4.0.1 in /usr/local/lib/python3.10/dist-packages (from torch->openai-whisper) (11.4.0.1)\n",
            "Requirement already satisfied: nvidia-cusparse-cu11==11.7.4.91 in /usr/local/lib/python3.10/dist-packages (from torch->openai-whisper) (11.7.4.91)\n",
            "Requirement already satisfied: nvidia-nccl-cu11==2.14.3 in /usr/local/lib/python3.10/dist-packages (from torch->openai-whisper) (2.14.3)\n",
            "Requirement already satisfied: nvidia-nvtx-cu11==11.7.91 in /usr/local/lib/python3.10/dist-packages (from torch->openai-whisper) (11.7.91)\n",
            "Requirement already satisfied: wheel in /usr/local/lib/python3.10/dist-packages (from nvidia-cublas-cu11==11.10.3.66->torch->openai-whisper) (0.41.2)\n",
            "Requirement already satisfied: charset-normalizer<4,>=2 in /usr/local/lib/python3.10/dist-packages (from requests>=2.26.0->tiktoken==0.3.3->openai-whisper) (3.3.1)\n",
            "Requirement already satisfied: idna<4,>=2.5 in /usr/local/lib/python3.10/dist-packages (from requests>=2.26.0->tiktoken==0.3.3->openai-whisper) (3.4)\n",
            "Requirement already satisfied: urllib3<3,>=1.21.1 in /usr/local/lib/python3.10/dist-packages (from requests>=2.26.0->tiktoken==0.3.3->openai-whisper) (2.0.7)\n",
            "Requirement already satisfied: certifi>=2017.4.17 in /usr/local/lib/python3.10/dist-packages (from requests>=2.26.0->tiktoken==0.3.3->openai-whisper) (2023.7.22)\n",
            "Requirement already satisfied: MarkupSafe>=2.0 in /usr/local/lib/python3.10/dist-packages (from jinja2->torch->openai-whisper) (2.1.3)\n",
            "Requirement already satisfied: mpmath>=0.19 in /usr/local/lib/python3.10/dist-packages (from sympy->torch->openai-whisper) (1.3.0)\n",
            "Collecting git+https://github.com/openai/whisper.git\n",
            "  Cloning https://github.com/openai/whisper.git to /tmp/pip-req-build-lkldpzz6\n",
            "  Running command git clone --filter=blob:none --quiet https://github.com/openai/whisper.git /tmp/pip-req-build-lkldpzz6\n",
            "  Resolved https://github.com/openai/whisper.git to commit b38a1f20f4b23f3f3099af2c3e0ca95627276ddf\n",
            "  Installing build dependencies ... \u001b[?25l\u001b[?25hdone\n",
            "  Getting requirements to build wheel ... \u001b[?25l\u001b[?25hdone\n",
            "  Preparing metadata (pyproject.toml) ... \u001b[?25l\u001b[?25hdone\n",
            "Requirement already satisfied: triton==2.0.0 in /usr/local/lib/python3.10/dist-packages (from openai-whisper==20230918) (2.0.0)\n",
            "Requirement already satisfied: numba in /usr/local/lib/python3.10/dist-packages (from openai-whisper==20230918) (0.56.4)\n",
            "Requirement already satisfied: numpy in /usr/local/lib/python3.10/dist-packages (from openai-whisper==20230918) (1.23.5)\n",
            "Requirement already satisfied: torch in /usr/local/lib/python3.10/dist-packages (from openai-whisper==20230918) (2.0.1)\n",
            "Requirement already satisfied: tqdm in /usr/local/lib/python3.10/dist-packages (from openai-whisper==20230918) (4.66.1)\n",
            "Requirement already satisfied: more-itertools in /usr/local/lib/python3.10/dist-packages (from openai-whisper==20230918) (10.1.0)\n",
            "Requirement already satisfied: tiktoken==0.3.3 in /usr/local/lib/python3.10/dist-packages (from openai-whisper==20230918) (0.3.3)\n",
            "Requirement already satisfied: regex>=2022.1.18 in /usr/local/lib/python3.10/dist-packages (from tiktoken==0.3.3->openai-whisper==20230918) (2023.6.3)\n",
            "Requirement already satisfied: requests>=2.26.0 in /usr/local/lib/python3.10/dist-packages (from tiktoken==0.3.3->openai-whisper==20230918) (2.31.0)\n",
            "Requirement already satisfied: cmake in /usr/local/lib/python3.10/dist-packages (from triton==2.0.0->openai-whisper==20230918) (3.27.7)\n",
            "Requirement already satisfied: filelock in /usr/local/lib/python3.10/dist-packages (from triton==2.0.0->openai-whisper==20230918) (3.12.4)\n",
            "Requirement already satisfied: lit in /usr/local/lib/python3.10/dist-packages (from triton==2.0.0->openai-whisper==20230918) (17.0.3)\n",
            "Requirement already satisfied: llvmlite<0.40,>=0.39.0dev0 in /usr/local/lib/python3.10/dist-packages (from numba->openai-whisper==20230918) (0.39.1)\n",
            "Requirement already satisfied: setuptools in /usr/local/lib/python3.10/dist-packages (from numba->openai-whisper==20230918) (67.7.2)\n",
            "Requirement already satisfied: typing-extensions in /usr/local/lib/python3.10/dist-packages (from torch->openai-whisper==20230918) (4.5.0)\n",
            "Requirement already satisfied: sympy in /usr/local/lib/python3.10/dist-packages (from torch->openai-whisper==20230918) (1.12)\n",
            "Requirement already satisfied: networkx in /usr/local/lib/python3.10/dist-packages (from torch->openai-whisper==20230918) (3.2)\n",
            "Requirement already satisfied: jinja2 in /usr/local/lib/python3.10/dist-packages (from torch->openai-whisper==20230918) (3.1.2)\n",
            "Requirement already satisfied: nvidia-cuda-nvrtc-cu11==11.7.99 in /usr/local/lib/python3.10/dist-packages (from torch->openai-whisper==20230918) (11.7.99)\n",
            "Requirement already satisfied: nvidia-cuda-runtime-cu11==11.7.99 in /usr/local/lib/python3.10/dist-packages (from torch->openai-whisper==20230918) (11.7.99)\n",
            "Requirement already satisfied: nvidia-cuda-cupti-cu11==11.7.101 in /usr/local/lib/python3.10/dist-packages (from torch->openai-whisper==20230918) (11.7.101)\n",
            "Requirement already satisfied: nvidia-cudnn-cu11==8.5.0.96 in /usr/local/lib/python3.10/dist-packages (from torch->openai-whisper==20230918) (8.5.0.96)\n",
            "Requirement already satisfied: nvidia-cublas-cu11==11.10.3.66 in /usr/local/lib/python3.10/dist-packages (from torch->openai-whisper==20230918) (11.10.3.66)\n",
            "Requirement already satisfied: nvidia-cufft-cu11==10.9.0.58 in /usr/local/lib/python3.10/dist-packages (from torch->openai-whisper==20230918) (10.9.0.58)\n",
            "Requirement already satisfied: nvidia-curand-cu11==10.2.10.91 in /usr/local/lib/python3.10/dist-packages (from torch->openai-whisper==20230918) (10.2.10.91)\n",
            "Requirement already satisfied: nvidia-cusolver-cu11==11.4.0.1 in /usr/local/lib/python3.10/dist-packages (from torch->openai-whisper==20230918) (11.4.0.1)\n",
            "Requirement already satisfied: nvidia-cusparse-cu11==11.7.4.91 in /usr/local/lib/python3.10/dist-packages (from torch->openai-whisper==20230918) (11.7.4.91)\n",
            "Requirement already satisfied: nvidia-nccl-cu11==2.14.3 in /usr/local/lib/python3.10/dist-packages (from torch->openai-whisper==20230918) (2.14.3)\n",
            "Requirement already satisfied: nvidia-nvtx-cu11==11.7.91 in /usr/local/lib/python3.10/dist-packages (from torch->openai-whisper==20230918) (11.7.91)\n",
            "Requirement already satisfied: wheel in /usr/local/lib/python3.10/dist-packages (from nvidia-cublas-cu11==11.10.3.66->torch->openai-whisper==20230918) (0.41.2)\n",
            "Requirement already satisfied: charset-normalizer<4,>=2 in /usr/local/lib/python3.10/dist-packages (from requests>=2.26.0->tiktoken==0.3.3->openai-whisper==20230918) (3.3.1)\n",
            "Requirement already satisfied: idna<4,>=2.5 in /usr/local/lib/python3.10/dist-packages (from requests>=2.26.0->tiktoken==0.3.3->openai-whisper==20230918) (3.4)\n",
            "Requirement already satisfied: urllib3<3,>=1.21.1 in /usr/local/lib/python3.10/dist-packages (from requests>=2.26.0->tiktoken==0.3.3->openai-whisper==20230918) (2.0.7)\n",
            "Requirement already satisfied: certifi>=2017.4.17 in /usr/local/lib/python3.10/dist-packages (from requests>=2.26.0->tiktoken==0.3.3->openai-whisper==20230918) (2023.7.22)\n",
            "Requirement already satisfied: MarkupSafe>=2.0 in /usr/local/lib/python3.10/dist-packages (from jinja2->torch->openai-whisper==20230918) (2.1.3)\n",
            "Requirement already satisfied: mpmath>=0.19 in /usr/local/lib/python3.10/dist-packages (from sympy->torch->openai-whisper==20230918) (1.3.0)\n",
            "Collecting git+https://github.com/openai/whisper.git\n",
            "  Cloning https://github.com/openai/whisper.git to /tmp/pip-req-build-x32x6tph\n",
            "  Running command git clone --filter=blob:none --quiet https://github.com/openai/whisper.git /tmp/pip-req-build-x32x6tph\n",
            "  Resolved https://github.com/openai/whisper.git to commit b38a1f20f4b23f3f3099af2c3e0ca95627276ddf\n",
            "  Installing build dependencies ... \u001b[?25l\u001b[?25hdone\n",
            "  Getting requirements to build wheel ... \u001b[?25l\u001b[?25hdone\n",
            "  Preparing metadata (pyproject.toml) ... \u001b[?25l\u001b[?25hdone\n",
            "Building wheels for collected packages: openai-whisper\n",
            "  Building wheel for openai-whisper (pyproject.toml) ... \u001b[?25l\u001b[?25hdone\n",
            "  Created wheel for openai-whisper: filename=openai_whisper-20230918-py3-none-any.whl size=798405 sha256=67cddc7789f37eb9115eac324823f70ff48f17d291d780d20140c8ccf6c581ba\n",
            "  Stored in directory: /tmp/pip-ephem-wheel-cache-vn0q5_vn/wheels/8b/6c/d0/622666868c179f156cf595c8b6f06f88bc5d80c4b31dccaa03\n",
            "Successfully built openai-whisper\n",
            "Installing collected packages: openai-whisper\n",
            "  Attempting uninstall: openai-whisper\n",
            "    Found existing installation: openai-whisper 20230918\n",
            "    Uninstalling openai-whisper-20230918:\n",
            "      Successfully uninstalled openai-whisper-20230918\n",
            "Successfully installed openai-whisper-20230918\n"
          ]
        },
        {
          "output_type": "display_data",
          "data": {
            "application/vnd.colab-display-data+json": {
              "pip_warning": {
                "packages": [
                  "whisper"
                ]
              }
            }
          },
          "metadata": {}
        },
        {
          "output_type": "stream",
          "name": "stdout",
          "text": [
            "Requirement already satisfied: setuptools-rust in /usr/local/lib/python3.10/dist-packages (1.8.1)\n",
            "Requirement already satisfied: setuptools>=62.4 in /usr/local/lib/python3.10/dist-packages (from setuptools-rust) (67.7.2)\n",
            "Requirement already satisfied: semantic-version<3,>=2.8.2 in /usr/local/lib/python3.10/dist-packages (from setuptools-rust) (2.10.0)\n",
            "Requirement already satisfied: tomli>=1.2.1 in /usr/local/lib/python3.10/dist-packages (from setuptools-rust) (2.0.1)\n"
          ]
        }
      ],
      "source": [
        "!pip install pydub\n",
        "!pip install -U openai-whisper\n",
        "!pip install git+https://github.com/openai/whisper.git\n",
        "!pip install --upgrade --no-deps --force-reinstall git+https://github.com/openai/whisper.git\n",
        "!pip install setuptools-rust"
      ]
    },
    {
      "cell_type": "markdown",
      "source": [
        "# Other Installed Packages\n",
        "* Install the 'ffmpeg' through chocolatey package manager."
      ],
      "metadata": {
        "id": "kz_nig7kVewv"
      }
    },
    {
      "cell_type": "code",
      "source": [
        "!choco install ffmpeg-full"
      ],
      "metadata": {
        "colab": {
          "base_uri": "https://localhost:8080/"
        },
        "id": "h7kZ24cAVrMY",
        "outputId": "e0101713-fd77-45a5-a012-44a5bf52503e"
      },
      "execution_count": null,
      "outputs": [
        {
          "output_type": "stream",
          "name": "stdout",
          "text": [
            "/bin/bash: line 1: choco: command not found\n"
          ]
        }
      ]
    },
    {
      "cell_type": "markdown",
      "source": [
        "# Imported Modules"
      ],
      "metadata": {
        "id": "4sDXiCIRVt1K"
      }
    },
    {
      "cell_type": "code",
      "source": [
        "from pydub import AudioSegment\n",
        "import whisper\n",
        "import os"
      ],
      "metadata": {
        "id": "qdMRlVxGVvuS"
      },
      "execution_count": null,
      "outputs": []
    },
    {
      "cell_type": "markdown",
      "source": [
        "# Loading The File"
      ],
      "metadata": {
        "id": "WgmCsSHNVyj0"
      }
    },
    {
      "cell_type": "code",
      "source": [
        "# Load the audio file\n",
        "audio = AudioSegment.from_file(\"audio.mp3\")"
      ],
      "metadata": {
        "id": "sA-cB8qyV2TE"
      },
      "execution_count": null,
      "outputs": []
    },
    {
      "cell_type": "markdown",
      "source": [
        "# Audio Segmentation\n"
      ],
      "metadata": {
        "id": "T_gQkihGV0tU"
      }
    },
    {
      "cell_type": "code",
      "source": [
        "# Define the segment start and end times (in milliseconds)\n",
        "# 1 seconds = 1000 milliseconds\n",
        "\n",
        "start_time_1 = 0\n",
        "end_time_1 = 4000\n",
        "\n",
        "start_time_2 = 4000\n",
        "end_time_2 = 5000\n",
        "\n",
        "start_time_3 = 5000\n",
        "end_time_3 = 7000\n",
        "\n",
        "start_time_3 = 7000\n",
        "end_time_3 = 8000\n",
        "\n",
        "start_time_4 = 8000\n",
        "end_time_4 = 16000\n",
        "\n",
        "start_time_5 = 16000\n",
        "end_time_5 = 18000\n",
        "\n",
        "start_time_6 = 18000\n",
        "end_time_6 = 23000\n",
        "\n",
        "start_time_7 = 8000\n",
        "end_time_7 = 16000\n",
        "\n",
        "start_time_8 = 16000\n",
        "end_time_8 = 28000\n",
        "\n",
        "start_time_9 = 28000\n",
        "end_time_9 = 30000\n",
        "\n",
        "start_time_10 = 30000\n",
        "end_time_10 = 32000\n",
        "\n",
        "start_time_11 = 32000\n",
        "end_time_11 = 35000\n",
        "\n",
        "start_time_12 = 35000\n",
        "end_time_12 = 37000\n",
        "\n",
        "start_time_13 = 37000\n",
        "end_time_13 = 43000\n",
        "\n",
        "start_time_14 = 43000\n",
        "end_time_14 = 44000\n",
        "\n",
        "start_time_15 = 44000\n",
        "end_time_15 = 45000\n",
        "\n",
        "start_time_16 = 45000\n",
        "end_time_16 = 46000\n",
        "\n",
        "start_time_17 = 46000\n",
        "end_time_17 = 48000\n",
        "\n",
        "start_time_18 = 48000\n",
        "end_time_18 = 65000\n",
        "\n",
        "start_time_19 = 65000\n",
        "end_time_19 = 69000\n",
        "\n",
        "start_time_20 = 69000\n",
        "end_time_20 = 72000\n",
        "\n",
        "start_time_21 = 72000\n",
        "end_time_21 = 73000\n",
        "\n",
        "start_time_22 = 73000\n",
        "end_time_22 = 74000\n",
        "\n",
        "start_time_23 = 74000\n",
        "end_time_23 = 75000\n",
        "\n",
        "start_time_24 = 75000\n",
        "end_time_24 = 78000\n",
        "\n",
        "start_time_25 = 78000\n",
        "end_time_25 = 89000\n",
        "\n",
        "start_time_26 = 89000\n",
        "end_time_26 = 90000\n",
        "\n",
        "start_time_27 = 90000\n",
        "end_time_27 = 43000\n",
        "\n",
        "start_time_28 = 43000\n",
        "end_time_28 = 45000\n",
        "\n",
        "start_time_29 = 45000\n",
        "end_time_29 = 46000\n",
        "\n",
        "start_time_30 = 46000\n",
        "end_time_30 = 50000\n",
        "\n",
        "start_time_31 = 50000\n",
        "end_time_31 = 57000\n",
        "\n",
        "start_time_32 = 57000\n",
        "end_time_32 = 123000\n",
        "\n",
        "start_time_33 = 123000\n",
        "end_time_33 = 130000\n",
        "\n",
        "start_time_33 = 130000\n",
        "end_time_33 = 131000\n",
        "\n",
        "start_time_34 = 131000\n",
        "end_time_34 = 138000\n",
        "\n",
        "start_time_35 = 138000\n",
        "end_time_35 = 139000\n",
        "\n",
        "start_time_36 = 139000\n",
        "end_time_36 = 140000\n",
        "\n",
        "start_time_37 = 140000\n",
        "end_time_37 = 141000\n",
        "\n",
        "\n",
        "# Segment the audio\n",
        "segment_1 = audio[start_time_1:end_time_1]    # Caller\n",
        "segment_2 = audio[start_time_2:end_time_2]    # Customer\n",
        "segment_3 = audio[start_time_3:end_time_3]    # Caller\n",
        "segment_4 = audio[start_time_4:end_time_4]    # Customer\n",
        "segment_5 = audio[start_time_5:end_time_5]    # Caller\n",
        "segment_6 = audio[start_time_6:end_time_6]    # Customer\n",
        "segment_7 = audio[start_time_7:end_time_7]    # Caller\n",
        "segment_8 = audio[start_time_8:end_time_8]    # Customer\n",
        "segment_9 = audio[start_time_9:end_time_9]    # Caller\n",
        "segment_10 = audio[start_time_10:end_time_10]    # Customer\n",
        "segment_11 = audio[start_time_11:end_time_11]    # Caller\n",
        "segment_12 = audio[start_time_12:end_time_12]    # Customer\n",
        "segment_13 = audio[start_time_13:end_time_13]    # Caller\n",
        "segment_14 = audio[start_time_14:end_time_14]    # Customer\n",
        "segment_15 = audio[start_time_15:end_time_15]    # Caller\n",
        "segment_16 = audio[start_time_16:end_time_16]    # Customer\n",
        "segment_17 = audio[start_time_17:end_time_17]    # Caller\n",
        "segment_18 = audio[start_time_18:end_time_18]    # Customer\n",
        "segment_19 = audio[start_time_19:end_time_19]    # Caller\n",
        "segment_20 = audio[start_time_20:end_time_20]    # Customer\n",
        "segment_21 = audio[start_time_21:end_time_21]    # Caller\n",
        "segment_22 = audio[start_time_22:end_time_22]    # Customer\n",
        "segment_23 = audio[start_time_23:end_time_23]    # Caller\n",
        "segment_24 = audio[start_time_24:end_time_24]    # Customer\n",
        "segment_25 = audio[start_time_25:end_time_25]    # Caller\n",
        "segment_26 = audio[start_time_26:end_time_26]    # Customer\n",
        "segment_27 = audio[start_time_27:end_time_27]    # Caller\n",
        "segment_28 = audio[start_time_28:end_time_28]    # Customer\n",
        "segment_29 = audio[start_time_29:end_time_29]    # Caller\n",
        "segment_30 = audio[start_time_30:end_time_30]    # Customer\n",
        "segment_31 = audio[start_time_31:end_time_31]    # Caller\n",
        "segment_32 = audio[start_time_32:end_time_32]    # Customer\n",
        "segment_33 = audio[start_time_33:end_time_33]    # Caller\n",
        "segment_34 = audio[start_time_34:end_time_34]    # Customer\n",
        "segment_35 = audio[start_time_35:end_time_35]    # Caller\n",
        "segment_36 = audio[start_time_36:end_time_36]    # Customer\n",
        "segment_37 = audio[start_time_37:end_time_37]    # Caller\n",
        "\n",
        "\n",
        "# Creating a new folder.\n",
        "os.mkdir(\"Audio_Segments\")\n",
        "\n",
        "\n",
        "# Export the segmented audio to a new file.\n",
        "segment_1.export(\"Audio_Segments/segment_1_audio.wav\", format=\"wav\")\n",
        "segment_2.export(\"Audio_Segments/segment_2_audio.wav\", format=\"wav\")\n",
        "segment_3.export(\"Audio_Segments/segment_3_audio.wav\", format=\"wav\")\n",
        "segment_4.export(\"Audio_Segments/segment_4_audio.wav\", format=\"wav\")\n",
        "segment_5.export(\"Audio_Segments/segment_5_audio.wav\", format=\"wav\")\n",
        "segment_6.export(\"Audio_Segments/segment_6_audio.wav\", format=\"wav\")\n",
        "segment_7.export(\"Audio_Segments/segment_7_audio.wav\", format=\"wav\")\n",
        "segment_8.export(\"Audio_Segments/segment_8_audio.wav\", format=\"wav\")\n",
        "segment_9.export(\"Audio_Segments/segment_9_audio.wav\", format=\"wav\")\n",
        "segment_10.export(\"Audio_Segments/segment_10_audio.wav\", format=\"wav\")\n",
        "segment_11.export(\"Audio_Segments/segment_11_audio.wav\", format=\"wav\")\n",
        "segment_12.export(\"Audio_Segments/segment_12_audio.wav\", format=\"wav\")\n",
        "segment_13.export(\"Audio_Segments/segment_13_audio.wav\", format=\"wav\")\n",
        "segment_14.export(\"Audio_Segments/segment_14_audio.wav\", format=\"wav\")\n",
        "segment_15.export(\"Audio_Segments/segment_15_audio.wav\", format=\"wav\")\n",
        "segment_16.export(\"Audio_Segments/segment_16_audio.wav\", format=\"wav\")\n",
        "segment_17.export(\"Audio_Segments/segment_17_audio.wav\", format=\"wav\")\n",
        "segment_18.export(\"Audio_Segments/segment_18_audio.wav\", format=\"wav\")\n",
        "segment_19.export(\"Audio_Segments/segment_19_audio.wav\", format=\"wav\")\n",
        "segment_20.export(\"Audio_Segments/segment_20_audio.wav\", format=\"wav\")\n",
        "segment_21.export(\"Audio_Segments/segment_21_audio.wav\", format=\"wav\")\n",
        "segment_22.export(\"Audio_Segments/segment_22_audio.wav\", format=\"wav\")\n",
        "segment_23.export(\"Audio_Segments/segment_23_audio.wav\", format=\"wav\")\n",
        "segment_24.export(\"Audio_Segments/segment_24_audio.wav\", format=\"wav\")\n",
        "segment_25.export(\"Audio_Segments/segment_25_audio.wav\", format=\"wav\")\n",
        "segment_26.export(\"Audio_Segments/segment_26_audio.wav\", format=\"wav\")\n",
        "segment_27.export(\"Audio_Segments/segment_27_audio.wav\", format=\"wav\")\n",
        "segment_28.export(\"Audio_Segments/segment_28_audio.wav\", format=\"wav\")\n",
        "segment_29.export(\"Audio_Segments/segment_29_audio.wav\", format=\"wav\")\n",
        "segment_30.export(\"Audio_Segments/segment_30_audio.wav\", format=\"wav\")\n",
        "segment_31.export(\"Audio_Segments/segment_31_audio.wav\", format=\"wav\")\n",
        "segment_32.export(\"Audio_Segments/segment_32_audio.wav\", format=\"wav\")\n",
        "segment_33.export(\"Audio_Segments/segment_33_audio.wav\", format=\"wav\")\n",
        "segment_34.export(\"Audio_Segments/segment_34_audio.wav\", format=\"wav\")\n",
        "segment_35.export(\"Audio_Segments/segment_35_audio.wav\", format=\"wav\")\n",
        "segment_36.export(\"Audio_Segments/segment_36_audio.wav\", format=\"wav\")\n",
        "segment_37.export(\"Audio_Segments/segment_37_audio.wav\", format=\"wav\")"
      ],
      "metadata": {
        "colab": {
          "base_uri": "https://localhost:8080/"
        },
        "id": "EKfeTqWWV79y",
        "outputId": "5f377708-5020-443b-dd0f-3eeeb34ca446"
      },
      "execution_count": null,
      "outputs": [
        {
          "output_type": "execute_result",
          "data": {
            "text/plain": [
              "<_io.BufferedRandom name='Audio_Segments/segment_37_audio.wav'>"
            ]
          },
          "metadata": {},
          "execution_count": 15
        }
      ]
    },
    {
      "cell_type": "markdown",
      "source": [
        "# Transcription"
      ],
      "metadata": {
        "id": "POKU00pAV_-O"
      }
    },
    {
      "cell_type": "code",
      "source": [
        "model = whisper.load_model(\"base\")\n",
        "json_results = {}\n",
        "\n",
        "# Iterate through all files in the folder.\n",
        "for y in range(1,38):\n",
        "    result = model.transcribe(f\"Audio_Segments/segment_{y}_audio.wav\")\n",
        "\n",
        "    if y%2 != 0:\n",
        "          json_results[\"Caller\"] = result[\"text\"]\n",
        "\n",
        "    if y%2 == 0:\n",
        "          json_results[\"Customer\"] = result[\"text\"]\n",
        "\n",
        "print(json_results)\n"
      ],
      "metadata": {
        "id": "ZEn42gJiWA_D"
      },
      "execution_count": null,
      "outputs": []
    }
  ]
}