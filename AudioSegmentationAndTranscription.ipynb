{
 "cells": [
  {
   "cell_type": "markdown",
   "metadata": {},
   "source": [
    "# Installed Packages\n",
    "* PyDub is used for audio segmentation.\n",
    "* Whisper is used for transcription. For details check this link:  \n",
    "    https://github.com/openai/whisper"
   ]
  },
  {
   "cell_type": "code",
   "execution_count": 1,
   "metadata": {},
   "outputs": [],
   "source": [
    "# pip install pydub\n",
    "# pip install -U openai-whisper\n",
    "# pip install git+https://github.com/openai/whisper.git \n",
    "# pip install --upgrade --no-deps --force-reinstall git+https://github.com/openai/whisper.git\n",
    "# pip install setuptools-rust"
   ]
  },
  {
   "cell_type": "markdown",
   "metadata": {},
   "source": [
    "# Other Installed Packages\n",
    "* Install the 'ffmpeg' through chocolatey package manager."
   ]
  },
  {
   "cell_type": "code",
   "execution_count": 2,
   "metadata": {},
   "outputs": [],
   "source": [
    "# choco install ffmpeg-full"
   ]
  },
  {
   "cell_type": "markdown",
   "metadata": {},
   "source": [
    "# Imported Modules"
   ]
  },
  {
   "cell_type": "code",
   "execution_count": 3,
   "metadata": {},
   "outputs": [],
   "source": [
    "from pydub import AudioSegment\n",
    "import whisper\n",
    "import os"
   ]
  },
  {
   "cell_type": "markdown",
   "metadata": {},
   "source": [
    "# Loading The File"
   ]
  },
  {
   "cell_type": "code",
   "execution_count": 4,
   "metadata": {},
   "outputs": [],
   "source": [
    "# Load the audio file\n",
    "audio = AudioSegment.from_file(\"audio.mp3\")"
   ]
  },
  {
   "cell_type": "markdown",
   "metadata": {},
   "source": [
    "# Audio Segmentation"
   ]
  },
  {
   "cell_type": "code",
   "execution_count": 5,
   "metadata": {},
   "outputs": [
    {
     "data": {
      "text/plain": [
       "<_io.BufferedRandom name='Audio_Segments/segment_37_audio.wav'>"
      ]
     },
     "execution_count": 5,
     "metadata": {},
     "output_type": "execute_result"
    }
   ],
   "source": [
    "# Define the segment start and end times (in milliseconds)\n",
    "# 1 seconds = 1000 milliseconds\n",
    "\n",
    "start_time_1 = 0  \n",
    "end_time_1 = 4000 \n",
    "\n",
    "start_time_2 = 4000  \n",
    "end_time_2 = 5000   \n",
    "\n",
    "start_time_3 = 5000   \n",
    "end_time_3 = 7000 \n",
    "\n",
    "start_time_3 = 7000   \n",
    "end_time_3 = 8000 \n",
    "\n",
    "start_time_4 = 8000   \n",
    "end_time_4 = 16000 \n",
    "\n",
    "start_time_5 = 16000   \n",
    "end_time_5 = 18000\n",
    "\n",
    "start_time_6 = 18000   \n",
    "end_time_6 = 23000 \n",
    "\n",
    "start_time_7 = 8000   \n",
    "end_time_7 = 16000 \n",
    "\n",
    "start_time_8 = 16000   \n",
    "end_time_8 = 28000\n",
    "\n",
    "start_time_9 = 28000   \n",
    "end_time_9 = 30000 \n",
    "\n",
    "start_time_10 = 30000   \n",
    "end_time_10 = 32000 \n",
    "\n",
    "start_time_11 = 32000   \n",
    "end_time_11 = 35000 \n",
    "\n",
    "start_time_12 = 35000   \n",
    "end_time_12 = 37000 \n",
    "\n",
    "start_time_13 = 37000   \n",
    "end_time_13 = 43000 \n",
    "\n",
    "start_time_14 = 43000   \n",
    "end_time_14 = 44000\n",
    "\n",
    "start_time_15 = 44000   \n",
    "end_time_15 = 45000 \n",
    "\n",
    "start_time_16 = 45000   \n",
    "end_time_16 = 46000 \n",
    "\n",
    "start_time_17 = 46000   \n",
    "end_time_17 = 48000 \n",
    "\n",
    "start_time_18 = 48000   \n",
    "end_time_18 = 65000 \n",
    "\n",
    "start_time_19 = 65000   \n",
    "end_time_19 = 69000 \n",
    "\n",
    "start_time_20 = 69000   \n",
    "end_time_20 = 72000 \n",
    "\n",
    "start_time_21 = 72000   \n",
    "end_time_21 = 73000 \n",
    "\n",
    "start_time_22 = 73000   \n",
    "end_time_22 = 74000\n",
    "\n",
    "start_time_23 = 74000   \n",
    "end_time_23 = 75000 \n",
    "\n",
    "start_time_24 = 75000   \n",
    "end_time_24 = 78000 \n",
    "\n",
    "start_time_25 = 78000   \n",
    "end_time_25 = 89000 \n",
    "\n",
    "start_time_26 = 89000   \n",
    "end_time_26 = 90000 \n",
    "\n",
    "start_time_27 = 90000   \n",
    "end_time_27 = 43000 \n",
    "\n",
    "start_time_28 = 43000   \n",
    "end_time_28 = 45000 \n",
    "\n",
    "start_time_29 = 45000   \n",
    "end_time_29 = 46000 \n",
    "\n",
    "start_time_30 = 46000   \n",
    "end_time_30 = 50000 \n",
    "\n",
    "start_time_31 = 50000   \n",
    "end_time_31 = 57000 \n",
    "\n",
    "start_time_32 = 57000   \n",
    "end_time_32 = 123000 \n",
    "\n",
    "start_time_33 = 123000   \n",
    "end_time_33 = 130000 \n",
    "\n",
    "start_time_33 = 130000   \n",
    "end_time_33 = 131000 \n",
    "\n",
    "start_time_34 = 131000   \n",
    "end_time_34 = 138000 \n",
    "\n",
    "start_time_35 = 138000   \n",
    "end_time_35 = 139000 \n",
    "\n",
    "start_time_36 = 139000   \n",
    "end_time_36 = 140000 \n",
    "\n",
    "start_time_37 = 140000   \n",
    "end_time_37 = 141000 \n",
    "\n",
    "\n",
    "# Segment the audio\n",
    "segment_1 = audio[start_time_1:end_time_1]    # Caller\n",
    "segment_2 = audio[start_time_2:end_time_2]    # Customer\n",
    "segment_3 = audio[start_time_3:end_time_3]    # Caller\n",
    "segment_4 = audio[start_time_4:end_time_4]    # Customer\n",
    "segment_5 = audio[start_time_5:end_time_5]    # Caller\n",
    "segment_6 = audio[start_time_6:end_time_6]    # Customer\n",
    "segment_7 = audio[start_time_7:end_time_7]    # Caller\n",
    "segment_8 = audio[start_time_8:end_time_8]    # Customer\n",
    "segment_9 = audio[start_time_9:end_time_9]    # Caller\n",
    "segment_10 = audio[start_time_10:end_time_10]    # Customer\n",
    "segment_11 = audio[start_time_11:end_time_11]    # Caller\n",
    "segment_12 = audio[start_time_12:end_time_12]    # Customer\n",
    "segment_13 = audio[start_time_13:end_time_13]    # Caller\n",
    "segment_14 = audio[start_time_14:end_time_14]    # Customer\n",
    "segment_15 = audio[start_time_15:end_time_15]    # Caller\n",
    "segment_16 = audio[start_time_16:end_time_16]    # Customer\n",
    "segment_17 = audio[start_time_17:end_time_17]    # Caller\n",
    "segment_18 = audio[start_time_18:end_time_18]    # Customer\n",
    "segment_19 = audio[start_time_19:end_time_19]    # Caller\n",
    "segment_20 = audio[start_time_20:end_time_20]    # Customer\n",
    "segment_21 = audio[start_time_21:end_time_21]    # Caller\n",
    "segment_22 = audio[start_time_22:end_time_22]    # Customer\n",
    "segment_23 = audio[start_time_23:end_time_23]    # Caller\n",
    "segment_24 = audio[start_time_24:end_time_24]    # Customer\n",
    "segment_25 = audio[start_time_25:end_time_25]    # Caller\n",
    "segment_26 = audio[start_time_26:end_time_26]    # Customer\n",
    "segment_27 = audio[start_time_27:end_time_27]    # Caller\n",
    "segment_28 = audio[start_time_28:end_time_28]    # Customer\n",
    "segment_29 = audio[start_time_29:end_time_29]    # Caller\n",
    "segment_30 = audio[start_time_30:end_time_30]    # Customer\n",
    "segment_31 = audio[start_time_31:end_time_31]    # Caller\n",
    "segment_32 = audio[start_time_32:end_time_32]    # Customer\n",
    "segment_33 = audio[start_time_33:end_time_33]    # Caller\n",
    "segment_34 = audio[start_time_34:end_time_34]    # Customer\n",
    "segment_35 = audio[start_time_35:end_time_35]    # Caller\n",
    "segment_36 = audio[start_time_36:end_time_36]    # Customer\n",
    "segment_37 = audio[start_time_37:end_time_37]    # Caller\n",
    "\n",
    "\n",
    "# Creating a new folder.\n",
    "os.mkdir(\"Audio_Segments\")\n",
    "\n",
    "# Export the segmented audio to a new file.\n",
    "segment_1.export(\"Audio_Segments/segment_1_audio.wav\", format=\"wav\") \n",
    "segment_2.export(\"Audio_Segments/segment_2_audio.wav\", format=\"wav\") \n",
    "segment_3.export(\"Audio_Segments/segment_3_audio.wav\", format=\"wav\")  \n",
    "segment_4.export(\"Audio_Segments/segment_4_audio.wav\", format=\"wav\")  \n",
    "segment_5.export(\"Audio_Segments/segment_5_audio.wav\", format=\"wav\")  \n",
    "segment_6.export(\"Audio_Segments/segment_6_audio.wav\", format=\"wav\")  \n",
    "segment_7.export(\"Audio_Segments/segment_7_audio.wav\", format=\"wav\")  \n",
    "segment_8.export(\"Audio_Segments/segment_8_audio.wav\", format=\"wav\")  \n",
    "segment_9.export(\"Audio_Segments/segment_9_audio.wav\", format=\"wav\")  \n",
    "segment_10.export(\"Audio_Segments/segment_10_audio.wav\", format=\"wav\") \n",
    "segment_11.export(\"Audio_Segments/segment_11_audio.wav\", format=\"wav\") \n",
    "segment_12.export(\"Audio_Segments/segment_12_audio.wav\", format=\"wav\") \n",
    "segment_13.export(\"Audio_Segments/segment_13_audio.wav\", format=\"wav\") \n",
    "segment_14.export(\"Audio_Segments/segment_14_audio.wav\", format=\"wav\") \n",
    "segment_15.export(\"Audio_Segments/segment_15_audio.wav\", format=\"wav\") \n",
    "segment_16.export(\"Audio_Segments/segment_16_audio.wav\", format=\"wav\") \n",
    "segment_17.export(\"Audio_Segments/segment_17_audio.wav\", format=\"wav\") \n",
    "segment_18.export(\"Audio_Segments/segment_18_audio.wav\", format=\"wav\") \n",
    "segment_19.export(\"Audio_Segments/segment_19_audio.wav\", format=\"wav\") \n",
    "segment_20.export(\"Audio_Segments/segment_20_audio.wav\", format=\"wav\") \n",
    "segment_21.export(\"Audio_Segments/segment_21_audio.wav\", format=\"wav\") \n",
    "segment_22.export(\"Audio_Segments/segment_22_audio.wav\", format=\"wav\") \n",
    "segment_23.export(\"Audio_Segments/segment_23_audio.wav\", format=\"wav\") \n",
    "segment_24.export(\"Audio_Segments/segment_24_audio.wav\", format=\"wav\") \n",
    "segment_25.export(\"Audio_Segments/segment_25_audio.wav\", format=\"wav\") \n",
    "segment_26.export(\"Audio_Segments/segment_26_audio.wav\", format=\"wav\") \n",
    "segment_27.export(\"Audio_Segments/segment_27_audio.wav\", format=\"wav\") \n",
    "segment_28.export(\"Audio_Segments/segment_28_audio.wav\", format=\"wav\") \n",
    "segment_29.export(\"Audio_Segments/segment_29_audio.wav\", format=\"wav\") \n",
    "segment_30.export(\"Audio_Segments/segment_30_audio.wav\", format=\"wav\") \n",
    "segment_31.export(\"Audio_Segments/segment_31_audio.wav\", format=\"wav\") \n",
    "segment_32.export(\"Audio_Segments/segment_32_audio.wav\", format=\"wav\") \n",
    "segment_33.export(\"Audio_Segments/segment_33_audio.wav\", format=\"wav\") \n",
    "segment_34.export(\"Audio_Segments/segment_34_audio.wav\", format=\"wav\") \n",
    "segment_35.export(\"Audio_Segments/segment_35_audio.wav\", format=\"wav\") \n",
    "segment_36.export(\"Audio_Segments/segment_36_audio.wav\", format=\"wav\") \n",
    "segment_37.export(\"Audio_Segments/segment_37_audio.wav\", format=\"wav\") "
   ]
  },
  {
   "cell_type": "markdown",
   "metadata": {},
   "source": [
    "# Transcription"
   ]
  },
  {
   "cell_type": "code",
   "execution_count": 6,
   "metadata": {},
   "outputs": [
    {
     "name": "stderr",
     "output_type": "stream",
     "text": [
      "d:\\Project\\AudioSegmentationAndTranscription\\env_AudioSegmentationAndTranscription\\Lib\\site-packages\\whisper\\transcribe.py:114: UserWarning: FP16 is not supported on CPU; using FP32 instead\n",
      "  warnings.warn(\"FP16 is not supported on CPU; using FP32 instead\")\n"
     ]
    },
    {
     "name": "stdout",
     "output_type": "stream",
     "text": [
      "{'Caller': ' Thank you.', 'Customer': ' Thank you.'}\n"
     ]
    }
   ],
   "source": [
    "model = whisper.load_model(\"base\")\n",
    "json_results = {}\n",
    "\n",
    "# Iterate through all files in the folder.\n",
    "for y in range(1,38):\n",
    "    result = model.transcribe(f\"Audio_Segments/segment_{y}_audio.wav\")\n",
    "\n",
    "    if y%2 != 0:\n",
    "          json_results[\"Caller\"] = result[\"text\"]\n",
    "\n",
    "    if y%2 == 0:\n",
    "          json_results[\"Customer\"] = result[\"text\"]\n",
    "     \n",
    "print(json_results)\n"
   ]
  }
 ],
 "metadata": {
  "kernelspec": {
   "display_name": "env_AudioSegmentationAndTranscription",
   "language": "python",
   "name": "python3"
  },
  "language_info": {
   "codemirror_mode": {
    "name": "ipython",
    "version": 3
   },
   "file_extension": ".py",
   "mimetype": "text/x-python",
   "name": "python",
   "nbconvert_exporter": "python",
   "pygments_lexer": "ipython3",
   "version": "3.11.1"
  }
 },
 "nbformat": 4,
 "nbformat_minor": 2
}
